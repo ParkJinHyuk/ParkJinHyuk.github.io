{
 "cells": [
  {
   "cell_type": "markdown",
   "metadata": {},
   "source": [
    "### Digits classifier based on k random features\n",
    "### Name : Park Jinhyuk\n",
    "### Student-ID : 20141775"
   ]
  },
  {
   "cell_type": "code",
   "execution_count": 16,
   "metadata": {},
   "outputs": [],
   "source": [
    "import matplotlib.pyplot as plt\n",
    "import numpy as np\n",
    "import random\n",
    "\n",
    "file_data\t\t= \"mnist_train.csv\"\n",
    "file_test_data\t= \"mnist_test.csv\"\n",
    "handle_file\t= open(file_data, \"r\")\n",
    "handle_test_file\t= open(file_test_data, \"r\")\n",
    "data\t\t\t\t= handle_file.readlines()\n",
    "test_data\t\t\t= handle_test_file.readlines()\n",
    "handle_file.close()\n",
    "handle_test_file.close()\n",
    "\n",
    "size_row\t= 28    # height of the image\n",
    "size_col  \t= 28    # width of the image\n",
    "num_image\t= len(data)\n",
    "test_num_image= len(test_data)\n",
    "count       \t= 0     # count for the number of images\n",
    "numSize = 10\n",
    "vectorSize = 1000\n",
    "\n",
    "list_image  = np.empty((num_image, vectorSize + 1), dtype=float)\n",
    "list_label  = np.empty((numSize, num_image), dtype=int)\n",
    "list_dataLabel  = np.empty(num_image, dtype=int)\n",
    "classification = np.zeros(num_image, dtype=float)\n",
    "\n",
    "test_list_image  = np.empty((test_num_image, vectorSize + 1), dtype=float)\n",
    "test_list_dataLabel  = np.empty(test_num_image, dtype=int)\n",
    "test_classification = np.zeros(test_num_image, dtype=float)\n",
    "\n",
    "list_random_vector = np.empty((vectorSize, size_row * size_col), dtype=float)\n",
    "\n",
    "\n",
    "for i in range(vectorSize):\n",
    "    list_random_vector[i] = np.random.randint(-100, 100, size=size_row * size_col)\n",
    "\n",
    "for num in range(numSize):\n",
    "    count = 0\n",
    "    for line in data:\n",
    "        line_data   = line.split(',')\n",
    "        list_dataLabel[count] = line_data[0]\n",
    "        if line_data[0] == str(num):\n",
    "            label = 1\n",
    "        else:\n",
    "            label = -1\n",
    "        \n",
    "        if num == 0:\n",
    "                im_vector   = np.asfarray(line_data[1:])\n",
    "                list_image[count, 0] = 1\n",
    "                \n",
    "                for i in range(vectorSize):\n",
    "                    value = np.dot(im_vector, list_random_vector[i])\n",
    "                    if value < 0:\n",
    "                        value = 0\n",
    "                    list_image[count, i+1] = value\n",
    "\n",
    "        list_label[num, count] = label\n",
    "        count = count + 1\n",
    "\n",
    "    \n",
    "    count = 0\n",
    "    for line in test_data:\n",
    "        test_line_data   = line.split(',')\n",
    "        test_list_dataLabel[count] = test_line_data[0]\n",
    "\n",
    "        if num == 0:\n",
    "            im_vector   = np.asfarray(test_line_data[1:])\n",
    "            test_list_image[count, 0] = 1\n",
    "            for i in range(vectorSize):\n",
    "                value = np.dot(im_vector, list_random_vector[i])\n",
    "                if value < 0:\n",
    "                    value = 0\n",
    "                test_list_image[count, i+1] = value\n",
    "\n",
    "        \n",
    "        count = count + 1"
   ]
  },
  {
   "cell_type": "markdown",
   "metadata": {},
   "source": [
    "### Compute optimal model parameter"
   ]
  },
  {
   "cell_type": "code",
   "execution_count": 17,
   "metadata": {},
   "outputs": [
    {
     "name": "stdout",
     "output_type": "stream",
     "text": [
      "[[-1.01358084e+00 -2.69395169e-08  6.04266731e-08 ... -4.22820679e-08\n",
      "  -1.36234296e-07  4.57927374e-08]\n",
      " [-6.60942166e-01 -8.51336276e-08  1.59642044e-07 ... -1.13161183e-07\n",
      "  -1.05003399e-09 -8.13340367e-08]\n",
      " [-1.08958339e+00  1.75196143e-07 -1.86862144e-07 ... -5.05009235e-08\n",
      "  -1.26388548e-07  1.82580477e-07]\n",
      " ...\n",
      " [-8.10972947e-01  2.54490871e-07 -4.16785901e-07 ...  9.71385773e-08\n",
      "   2.06861198e-07 -2.83661806e-07]\n",
      " [-5.48142918e-01 -1.33673435e-07 -3.36934979e-08 ... -2.29268933e-07\n",
      "   2.35750131e-07 -1.74272875e-07]\n",
      " [-6.98264455e-01 -1.74349437e-07  4.34046133e-07 ...  3.36593253e-07\n",
      "  -2.99815580e-07  6.13778880e-07]]\n"
     ]
    }
   ],
   "source": [
    "d = vectorSize\n",
    "list_X = np.zeros((numSize, d+1))\n",
    "for num in range(numSize):\n",
    "    X = np.zeros(d+1)\n",
    "    X = np.dot(np.linalg.pinv(list_image),list_label[num])\n",
    "    list_X[num] = X\n",
    "print(list_X)"
   ]
  },
  {
   "cell_type": "markdown",
   "metadata": {},
   "source": [
    "### Compute tp rate, error rate on training set "
   ]
  },
  {
   "cell_type": "code",
   "execution_count": 18,
   "metadata": {},
   "outputs": [
    {
     "name": "stdout",
     "output_type": "stream",
     "text": [
      "true positive rate :  0.94615\n",
      "error rate :  0.05385\n"
     ]
    }
   ],
   "source": [
    "for i in range(num_image):\n",
    "    max = np.dot(list_image[i], list_X[0])\n",
    "    for j in range(1, numSize):\n",
    "        check = np.dot(list_image[i], list_X[j])\n",
    "        if  check > max:\n",
    "            max = check\n",
    "            classification[i] = j\n",
    "        \n",
    "tp = 0\n",
    "er = 0\n",
    "\n",
    "for i in range(num_image):\n",
    "    if list_dataLabel[i] ==  classification[i]:\n",
    "        tp = tp + 1\n",
    "    else:\n",
    "        er = er + 1\n",
    "\n",
    "\n",
    "print(\"true positive rate : \", tp / num_image)\n",
    "print(\"error rate : \", er / num_image)"
   ]
  },
  {
   "cell_type": "markdown",
   "metadata": {},
   "source": [
    "### Compute tp rate, error rate on testing set "
   ]
  },
  {
   "cell_type": "code",
   "execution_count": 19,
   "metadata": {},
   "outputs": [
    {
     "name": "stdout",
     "output_type": "stream",
     "text": [
      "true positive rate :  0.9421\n",
      "error rate :  0.0579\n"
     ]
    }
   ],
   "source": [
    "for i in range(test_num_image):\n",
    "    max = np.dot(test_list_image[i], list_X[0])\n",
    "    for j in range(1, numSize):\n",
    "        check = np.dot(test_list_image[i], list_X[j])\n",
    "        if  check > max:\n",
    "            max = check\n",
    "            test_classification[i] = j\n",
    "        \n",
    "tp = 0\n",
    "er = 0\n",
    "\n",
    "for i in range(test_num_image):\n",
    "    if test_list_dataLabel[i] ==  test_classification[i]:\n",
    "        tp = tp + 1\n",
    "    else:\n",
    "        er = er + 1\n",
    "\n",
    "print(\"true positive rate : \", tp / test_num_image)\n",
    "print(\"error rate : \", er / test_num_image)"
   ]
  },
  {
   "cell_type": "code",
   "execution_count": null,
   "metadata": {},
   "outputs": [],
   "source": []
  }
 ],
 "metadata": {
  "kernelspec": {
   "display_name": "Python 3",
   "language": "python",
   "name": "python3"
  },
  "language_info": {
   "codemirror_mode": {
    "name": "ipython",
    "version": 3
   },
   "file_extension": ".py",
   "mimetype": "text/x-python",
   "name": "python",
   "nbconvert_exporter": "python",
   "pygments_lexer": "ipython3",
   "version": "3.6.6"
  }
 },
 "nbformat": 4,
 "nbformat_minor": 2
}
