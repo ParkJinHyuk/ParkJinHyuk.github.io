{
 "cells": [
  {
   "cell_type": "markdown",
   "metadata": {},
   "source": [
    "# K-means clustering on color image\n",
    "# Name : Jinhyuk-Park\n",
    "# Student-ID : 20141775"
   ]
  },
  {
   "cell_type": "code",
   "execution_count": 1,
   "metadata": {},
   "outputs": [
    {
     "data": {
      "text/plain": [
       "<Figure size 640x480 with 10 Axes>"
      ]
     },
     "metadata": {},
     "output_type": "display_data"
    }
   ],
   "source": [
    "import matplotlib.pyplot as plt\n",
    "import numpy as np\n",
    "import random\n",
    "\n",
    "file_data\t\t= \"mnist_train.csv\"\n",
    "handle_file\t= open(file_data, \"r\")\n",
    "data        \t\t= handle_file.readlines()\n",
    "handle_file.close()\n",
    "\n",
    "size_row\t= 28    # height of the image\n",
    "size_col  \t= 28    # width of the image\n",
    "\n",
    "num_image\t= len(data)\n",
    "count       \t= 0     # count for the number of images\n",
    "\n",
    "\n",
    "\n",
    "#\n",
    "# normalize the values of the input data to be [0, 1]\n",
    "#\n",
    "# def normalize(data):\n",
    "\n",
    "#     data_normalized = (data - min(data)) / (max(data) - min(data))\n",
    "\n",
    "#     return(data_normalized)\n",
    "\n",
    "#\n",
    "# example of distance function between two vectors x and y\n",
    "#\n",
    "def distance(x, y):\n",
    "\n",
    "    d = (x - y) ** 2\n",
    "    s = np.sum(d)\n",
    "    #r = np.sqrt(s)\n",
    "\n",
    "    return(s)\n",
    "\n",
    "#\n",
    "# calcuate the values of the input data in l2-norm\n",
    "#\n",
    "def norm(x):\n",
    "    r = np.sqrt(x.T * x)\n",
    "    \n",
    "    return(r)\n",
    "    \n",
    "\n",
    "#\n",
    "# make a matrix each column of which represents an images in a vector form \n",
    "#\n",
    "list_image  = np.empty((size_row * size_col, num_image), dtype=float)\n",
    "list_label  = np.empty(num_image, dtype=int)\n",
    "\n",
    "k = 10\n",
    "list_centroid = np.zeros((size_row * size_col, k), dtype=float)\n",
    "list_count = np.zeros(k)\n",
    "for line in data:\n",
    "\n",
    "    line_data   = line.split(',')\n",
    "    label       = random.randint(0, k - 1)\n",
    "    im_vector   = np.asfarray(line_data[1:])\n",
    "#     im_vector   = normalize(im_vector)\n",
    "\n",
    "    list_label[count]       = label\n",
    "    list_image[:, count]    = im_vector\n",
    "    list_centroid[:, label]+= im_vector\n",
    "    list_count[label]      += 1\n",
    "\n",
    "    count += 1\n",
    "\n",
    "for i in range(0, k):\n",
    "    list_centroid[:, i] /= list_count[i]\n",
    "\n",
    "\n",
    "while True:\n",
    "    checkUpdate = 0\n",
    "    for i in range(0, num_image):\n",
    "        label = int(list_label[i])\n",
    "        min = distance(list_centroid[:, label], list_image[:, i])\n",
    "        for j in range(0, k):\n",
    "            if j == label:\n",
    "                continue\n",
    "\n",
    "            checkDistance = distance(list_centroid[:, j], list_image[:, i])\n",
    "            if(min > checkDistance):\n",
    "                list_label[i] = str(j)\n",
    "                min = checkDistance\n",
    "                checkUpdate += 1\n",
    "    \n",
    "    if(checkUpdate == 0):\n",
    "        break\n",
    "    \n",
    "    list_centroid = np.zeros((size_row * size_col, k), dtype=float)\n",
    "    list_count = np.zeros(k)\n",
    "    \n",
    "    for i in range(0, num_image):\n",
    "        label = int(list_label[i])\n",
    "        list_centroid[:, label] += list_image[:, i]\n",
    "        list_count[label]       += 1\n",
    "        \n",
    "    for i in range(0, k):\n",
    "        list_centroid[:, i] /= list_count[i]"
   ]
  },
  {
   "cell_type": "code",
   "execution_count": 2,
   "metadata": {},
   "outputs": [
    {
     "data": {
      "image/png": "[encoded data removed]",
      "text/plain": [
       "<Figure size 432x288 with 10 Axes>"
      ]
     },
     "metadata": {},
     "output_type": "display_data"
    }
   ],
   "source": [
    "# \n",
    "# plot 0 ~ 9 mean-images with their labels\n",
    "# \n",
    "f1 = plt.figure(1)\n",
    "\n",
    "for i in range(0, k):\n",
    "\n",
    "    label       = i\n",
    "    im_vector   = list_centroid[:, i]\n",
    "    im_matrix   = im_vector.reshape((size_row, size_col))\n",
    "\n",
    "    plt.subplot(1, k, i+1)\n",
    "    plt.title(label)\n",
    "    plt.imshow(im_matrix, cmap='Greys', interpolation='None')\n",
    "\n",
    "    frame   = plt.gca()\n",
    "    frame.axes.get_xaxis().set_visible(False)\n",
    "    frame.axes.get_yaxis().set_visible(False)\n",
    "\n",
    "plt.show()"
   ]
  }
 ],
 "metadata": {
  "kernelspec": {
   "display_name": "Python 3",
   "language": "python",
   "name": "python3"
  },
  "language_info": {
   "codemirror_mode": {
    "name": "ipython",
    "version": 3
   },
   "file_extension": ".py",
   "mimetype": "text/x-python",
   "name": "python",
   "nbconvert_exporter": "python",
   "pygments_lexer": "ipython3",
   "version": "3.6.6"
  }
 },
 "nbformat": 4,
 "nbformat_minor": 2
}
